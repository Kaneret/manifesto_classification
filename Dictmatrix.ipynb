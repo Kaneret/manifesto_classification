{
 "cells": [
  {
   "cell_type": "code",
   "execution_count": 3,
   "metadata": {},
   "outputs": [
    {
     "name": "stderr",
     "output_type": "stream",
     "text": [
      "D:\\Conda3\\lib\\site-packages\\ipykernel_launcher.py:10: ParserWarning: Falling back to the 'python' engine because the 'c' engine does not support regex separators (separators > 1 char and different from '\\s+' are interpreted as regex); you can avoid this warning by specifying engine='python'.\n",
      "  # Remove the CWD from sys.path while we load stuff.\n"
     ]
    }
   ],
   "source": [
    "from sklearn import svm\n",
    "from sklearn.feature_extraction.text import TfidfVectorizer\n",
    "from itertools import groupby\n",
    "import pandas as pd\n",
    "import pickle\n",
    "import numpy as np\n",
    "import math\n",
    "import re\n",
    "#Считываем файл, поправляя кодировку\n",
    "Data = pd.read_csv('D:/Downloads/german_labeled.csv', sep=' ==> ', header=None, encoding = 'utf-8 sig')\n",
    "#Получаем список тегов\n",
    "Tags = [el for el, _ in groupby(sorted([str(tag) for tag in Data[4]]))]\n",
    "\n",
    "#Инициализируем словарь предложений по тегам\n",
    "Sentences_by_tag = {}\n",
    "i=0\n",
    "for Tag in Tags:    \n",
    "    Sentences_by_tag[Tag] = i\n",
    "    i=i+1\n",
    "\n",
    "    \n",
    "#Записываем все предложения по каждому тегу в словарь    \n",
    "Sentences = ''\n",
    "for Unique_tag in Sentences_by_tag.keys():\n",
    "    i = 0\n",
    "    Sentences_by_tag[Unique_tag] = []\n",
    "    for Tag_to_compare in [str(tag) for tag in Data[4]]:         \n",
    "        if Tag_to_compare == Unique_tag:\n",
    "            Sentences += ' '+ str(Data[3][i])\n",
    "        i=i+1\n",
    "    Sentences_by_tag[Unique_tag] = Sentences\n",
    "    Sentences = ''\n",
    "    \n",
    "#Получаем все предложения, отсортированные по тегам  \n",
    "Documents = []\n",
    "for Unique_tag in Sentences_by_tag.keys():\n",
    "    Documents.append(Sentences_by_tag[Unique_tag])\n",
    "    \n",
    "\n",
    "#Получаем tf\\idf матрицу с помощью sklearn\n",
    "vectorizer = TfidfVectorizer()\n",
    "matrix = vectorizer.fit_transform(Documents)\n",
    "Tf_idf=pd.DataFrame(matrix.toarray(), columns=vectorizer.get_feature_names(), index= Sentences_by_tag.keys())\n"
   ]
  },
  {
   "cell_type": "code",
   "execution_count": 4,
   "metadata": {},
   "outputs": [],
   "source": [
    "#Функция, превращающая предложение в список чисел в соответствии со схемой\n",
    "def To_vector (Sentence):\n",
    "    stolbec = np.zeros(83219)\n",
    "    word_list = vectorizer.get_feature_names()\n",
    "    if isinstance(Sentence, str):\n",
    "        splittedSentence = re.split(r\"[,.!?:;\\\"\\'\\(\\)\\%\\=\\#\\&\\@\\$\\-\\*\\+\\>\\<\\/\\ \\s]\", Sentence)\n",
    "        while (\"\") in splittedSentence:\n",
    "            splittedSentence.remove(\"\")\n",
    "\n",
    "        for word in splittedSentence:\n",
    "            try:\n",
    "                position = word_list.index(word.lower())                \n",
    "                stolbec[position] += 0.5\n",
    "            except ValueError:\n",
    "                continue\n",
    "                \n",
    "        return(np.matmul(Tf_idf,stolbec))\n",
    "    else:\n",
    "        return(np.matmul(Tf_idf,np.zeros(83219)))"
   ]
  },
  {
   "cell_type": "code",
   "execution_count": 5,
   "metadata": {},
   "outputs": [],
   "source": [
    "Training_data = []\n",
    "for i in zip(Data[4],Data[3]):\n",
    "    Training_data.append(i)\n",
    "\n",
    "Test_data = Training_data[109743:]\n",
    "Training_data = Training_data[:109743]"
   ]
  },
  {
   "cell_type": "code",
   "execution_count": 6,
   "metadata": {
    "scrolled": true
   },
   "outputs": [
    {
     "data": {
      "text/plain": [
       "[]"
      ]
     },
     "execution_count": 6,
     "metadata": {},
     "output_type": "execute_result"
    }
   ],
   "source": [
    "#Превращаем валидационную выборку в вектора(работает ~40 минут(осторожно))\n",
    "Test = []\n",
    "for pair in Test_data:    \n",
    "    Test.append([pair[0], To_vector(pair[1])]) \n",
    "Test"
   ]
  },
  {
   "cell_type": "code",
   "execution_count": 12,
   "metadata": {
    "scrolled": true
   },
   "outputs": [],
   "source": [
    "#Запись в файл\n",
    "data = {\n",
    "    'test': Test\n",
    "}\n",
    "with open('path_to_file.pkl', 'wb') as output_file:\n",
    "    pickle.dump(data, output_file, protocol=pickle.HIGHEST_PROTOCOL)\n",
    "    \n"
   ]
  },
  {
   "cell_type": "code",
   "execution_count": 13,
   "metadata": {},
   "outputs": [],
   "source": [
    "#Считывание из файла\n",
    "with open('path_to_file.pkl', 'rb') as input_file:\n",
    "    data = pickle.load(input_file)\n",
    "Ntcn = data['test']"
   ]
  },
  {
   "cell_type": "code",
   "execution_count": null,
   "metadata": {},
   "outputs": [],
   "source": [
    "#Пока не работает\\не нужно\n",
    "#a = np.array(Sentences_by_tag.keys())\n",
    "#b = np.array(Sentences_by_tag.values())\n",
    "#c = np.array(x.loc[\"0\"])\n",
    "#model = svm.SVC(kernel='rbf', C=1,gamma=\"auto\")\n",
    "#model.fit(matrix.toarray(), a.reshape(-1,1))\n",
    "#model.predict(c.reshape(1,-1))\n",
    "#\n",
    "#Filtered_words = []\n",
    "#for word in Documents:\n",
    "#    Filtered_words+=re.split(r\"[,.!?:;\\\"\\'\\(\\)\\%\\=\\#\\&\\@\\$\\-\\*\\+\\>\\<\\/\\ 1234567890\\s]\", str(word))\n",
    "#Filtered_words=filter(None, Filtered_words)\n",
    "#Unique_words = [el for el, _ in groupby(sorted(Filtered_words))]\n",
    "#\n",
    "#             ind = x.columns.index(word)\n",
    "#             for feature in x.columns:\n",
    "#                 if feature == word.lower():\n",
    "#                     break\n",
    "#                 position += 1"
   ]
  }
 ],
 "metadata": {
  "kernelspec": {
   "display_name": "Python 3",
   "language": "python",
   "name": "python3"
  },
  "language_info": {
   "codemirror_mode": {
    "name": "ipython",
    "version": 3
   },
   "file_extension": ".py",
   "mimetype": "text/x-python",
   "name": "python",
   "nbconvert_exporter": "python",
   "pygments_lexer": "ipython3",
   "version": "3.7.0"
  }
 },
 "nbformat": 4,
 "nbformat_minor": 2
}
