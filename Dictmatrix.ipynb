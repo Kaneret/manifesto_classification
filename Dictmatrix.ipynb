{
 "cells": [
  {
   "cell_type": "code",
   "execution_count": null,
   "metadata": {},
   "outputs": [
    {
     "name": "stderr",
     "output_type": "stream",
     "text": [
      "C:\\Users\\Tanatos\\Anaconda2\\lib\\site-packages\\ipykernel_launcher.py:11: ParserWarning: Falling back to the 'python' engine because the 'c' engine does not support regex separators (separators > 1 char and different from '\\s+' are interpreted as regex); you can avoid this warning by specifying engine='python'.\n",
      "  # This is added back by InteractiveShellApp.init_path()\n"
     ]
    }
   ],
   "source": [
    "# -- coding: utf-8 --\n",
    "from sklearn import svm\n",
    "from sklearn.feature_extraction.text import TfidfVectorizer\n",
    "from itertools import groupby\n",
    "import pandas as pd\n",
    "import numpy as np\n",
    "import re\n",
    "#model = svm.SVC(kernel='rbf', C=1,gamma=\"auto\")\n",
    "#model.fit(x, x)\n",
    "#model.score(x, x)\n",
    "Data = pd.read_csv('D:\\Downloads\\german_labeled.csv', sep=' ==> ', header=None)\n",
    "Tags = [el for el, _ in groupby(sorted([str(tag) for tag in Data[4]]))]\n",
    "Sentences_by_tag = {}\n",
    "i=0\n",
    "for Tag in Tags:\n",
    "    Sentences_by_tag[Tag] = i\n",
    "    i=i+1\n",
    "    \n",
    "Sentences = ''\n",
    "for Unique_tag in Sentences_by_tag.keys():\n",
    "    i = 0\n",
    "    Sentences_by_tag[Unique_tag] = []\n",
    "    for Tag_to_compare in [str(tag) for tag in Data[4]]:         \n",
    "        if Tag_to_compare == Unique_tag:\n",
    "\n",
    "            Sentences += ' '+ re.sub(r'[^a-zA-Z\\s]', '', str(Data[3][i]))\n",
    "            #Sentences.join([ch for ch in Sentences if ord(ch) >= 97 and ord(ch) <= 122 or ord(ch) == 32])\n",
    "        i=i+1\n",
    "    Sentences_by_tag[Unique_tag] = Sentences\n",
    "    Sentences = ''\n",
    "    \n",
    "Documents = []\n",
    "for Unique_tag in Sentences_by_tag.keys():\n",
    "    Documents.append(Sentences_by_tag[Unique_tag])\n",
    "    \n",
    "Words = Data[3]\n",
    "Filtered_words = []\n",
    "for word in Words:\n",
    "    Filtered_words+=re.split(r\"[,.!?:;\\\"\\'\\(\\)\\%\\=\\#\\&\\@\\$\\-\\*\\+\\>\\<\\/\\ 1234567890\\s]\", str(word))\n",
    "Filtered_words=filter(None, Filtered_words)\n",
    "#Filtered_words.join([ch for ch in Sentences if ord(ch) >= 97 and ord(ch) <= 122 or ord(ch) == 32])\n",
    "Unique_words = [el for el, _ in groupby(sorted(Filtered_words))]\n",
    "\n",
    "Sentences_by_tag[Tag]\n",
    "vectorizer = TfidfVectorizer()\n",
    "matrix = vectorizer.fit_transform(Documents)\n",
    "# print(vectorizer.get_feature_names())\n",
    "x=pd.DataFrame(matrix.toarray(), columns=vectorizer.get_feature_names(), index= Tags)\n",
    "x\n",
    "    \n",
    "\n",
    "\n",
    "\n",
    "\n",
    "    \n",
    "    \n",
    "    \n",
    "    "
   ]
  },
  {
   "cell_type": "code",
   "execution_count": null,
   "metadata": {
    "collapsed": true
   },
   "outputs": [],
   "source": []
  }
 ],
 "metadata": {
  "kernelspec": {
   "display_name": "Python 3",
   "language": "python",
   "name": "python3"
  },
  "language_info": {
   "codemirror_mode": {
    "name": "ipython",
    "version": 3
   },
   "file_extension": ".py",
   "mimetype": "text/x-python",
   "name": "python",
   "nbconvert_exporter": "python",
   "pygments_lexer": "ipython3",
   "version": "3.6.1"
  }
 },
 "nbformat": 4,
 "nbformat_minor": 2
}
